{
 "cells": [
  {
   "cell_type": "code",
   "execution_count": 2,
   "id": "initial_id",
   "metadata": {
    "collapsed": true,
    "ExecuteTime": {
     "end_time": "2024-05-21T02:37:51.754210Z",
     "start_time": "2024-05-21T02:37:51.688309Z"
    }
   },
   "outputs": [],
   "source": [
    "import requests"
   ]
  },
  {
   "cell_type": "code",
   "outputs": [],
   "source": [
    "def get_stream(query: str):\n",
    "    s = requests.Session()\n",
    "    with s.get(\n",
    "        \"http://localhost:8000/chat\",\n",
    "        stream=True,\n",
    "        json={\"query\": query}\n",
    "    ) as r:\n",
    "        for line in r.iter_content():\n",
    "            print(line.decode(\"utf-8\"), end=\"\")"
   ],
   "metadata": {
    "collapsed": false,
    "ExecuteTime": {
     "end_time": "2024-05-21T02:39:57.618104Z",
     "start_time": "2024-05-21T02:39:57.615187Z"
    }
   },
   "id": "c6f806ae45acdb33",
   "execution_count": 5
  },
  {
   "cell_type": "code",
   "outputs": [
    {
     "name": "stdout",
     "output_type": "stream",
     "text": [
      "Hello Nguyen Trung Nguyen,\n",
      "\n",
      "I see you have a medical history of blood clots. It is important to be cautious when taking medications, especially those that can affect your blood's clotting ability. Paracetamol, also known as acetaminophen, is generally considered safe for individuals with a history of blood clots as it does not typically impact blood clotting. However, it is always best to consult with your healthcare provider before starting any new medication, even over-the-counter ones like paracetamol, to ensure it is safe for your specific situation.\n",
      "\n",
      "Source: Mayo Clinic - https://www.mayoclinic.org/diseases-conditions/blood-clots/symptoms-causes/syc-20355409"
     ]
    }
   ],
   "source": [
    "get_stream(\"Can I use paracetamol?\")"
   ],
   "metadata": {
    "collapsed": false,
    "ExecuteTime": {
     "end_time": "2024-05-21T04:16:38.034419Z",
     "start_time": "2024-05-21T04:16:34.072124Z"
    }
   },
   "id": "854654b533bc1b85",
   "execution_count": 14
  },
  {
   "cell_type": "code",
   "outputs": [
    {
     "name": "stdout",
     "output_type": "stream",
     "text": [
      "Hello Nguyen Trung Nguyen, as a male patient with a history of blood clots, it is important to be cautious when it comes to dealing with headaches, as some medications may interact with your condition. \n",
      "\n",
      "For headaches, I recommend trying some non-medication remedies first, such as staying hydrated, practicing relaxation techniques, or applying a cold compress to your forehead. If the headache persists or is severe, please consult your healthcare provider for personalized advice, considering your medical history with blood clots.\n",
      "\n",
      "Remember, always seek medical advice from a healthcare professional when dealing with health issues. \n",
      "\n",
      "Source: American Heart Association - Managing Blood Clots: https://www.heart.org/en/health-topics/venous-thromboembolism/what-is-venous-thromboembolism-vte/managing-blood-clots"
     ]
    }
   ],
   "source": [
    "get_stream(\"I have a headache, what should I do?\")"
   ],
   "metadata": {
    "collapsed": false,
    "ExecuteTime": {
     "end_time": "2024-05-21T04:17:19.855799Z",
     "start_time": "2024-05-21T04:17:16.194935Z"
    }
   },
   "id": "6d61f2a5724c1f87",
   "execution_count": 15
  }
 ],
 "metadata": {
  "kernelspec": {
   "display_name": "Python 3",
   "language": "python",
   "name": "python3"
  },
  "language_info": {
   "codemirror_mode": {
    "name": "ipython",
    "version": 2
   },
   "file_extension": ".py",
   "mimetype": "text/x-python",
   "name": "python",
   "nbconvert_exporter": "python",
   "pygments_lexer": "ipython2",
   "version": "2.7.6"
  }
 },
 "nbformat": 4,
 "nbformat_minor": 5
}
